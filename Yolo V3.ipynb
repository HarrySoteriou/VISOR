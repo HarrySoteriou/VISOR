{
 "cells": [
  {
   "cell_type": "code",
   "execution_count": 1,
   "metadata": {},
   "outputs": [],
   "source": [
    "import cv2 as cv\n",
    "import numpy as np"
   ]
  },
  {
   "cell_type": "code",
   "execution_count": 2,
   "metadata": {},
   "outputs": [],
   "source": [
    "confThreshold = 0.25 #leaving out all boxes below this probability\n",
    "nmsThreshold = 0.40\n",
    "inpWidth = 416 # input width for pictures\n",
    "inpHeight = 416 # input height for pictures"
   ]
  },
  {
   "cell_type": "code",
   "execution_count": 3,
   "metadata": {
    "scrolled": true
   },
   "outputs": [
    {
     "ename": "FileNotFoundError",
     "evalue": "[Errno 2] No such file or directory: 'darknet/coco.names.txt'",
     "output_type": "error",
     "traceback": [
      "\u001b[1;31m---------------------------------------------------------------------------\u001b[0m",
      "\u001b[1;31mFileNotFoundError\u001b[0m                         Traceback (most recent call last)",
      "\u001b[1;32m<ipython-input-3-c6d8e9238e07>\u001b[0m in \u001b[0;36m<module>\u001b[1;34m\u001b[0m\n\u001b[0;32m      3\u001b[0m \u001b[0mclasses\u001b[0m \u001b[1;33m=\u001b[0m \u001b[1;32mNone\u001b[0m\u001b[1;33m\u001b[0m\u001b[1;33m\u001b[0m\u001b[0m\n\u001b[0;32m      4\u001b[0m \u001b[1;33m\u001b[0m\u001b[0m\n\u001b[1;32m----> 5\u001b[1;33m \u001b[1;32mwith\u001b[0m \u001b[0mopen\u001b[0m\u001b[1;33m(\u001b[0m\u001b[0mclassesFile\u001b[0m\u001b[1;33m,\u001b[0m \u001b[1;34m'r'\u001b[0m\u001b[1;33m)\u001b[0m \u001b[1;32mas\u001b[0m \u001b[0mf\u001b[0m\u001b[1;33m:\u001b[0m\u001b[1;33m\u001b[0m\u001b[1;33m\u001b[0m\u001b[0m\n\u001b[0m\u001b[0;32m      6\u001b[0m     \u001b[0mclasses\u001b[0m \u001b[1;33m=\u001b[0m \u001b[0mf\u001b[0m\u001b[1;33m.\u001b[0m\u001b[0mread\u001b[0m\u001b[1;33m(\u001b[0m\u001b[1;33m)\u001b[0m\u001b[1;33m.\u001b[0m\u001b[0mstrip\u001b[0m\u001b[1;33m(\u001b[0m\u001b[1;34m'\\n'\u001b[0m\u001b[1;33m)\u001b[0m\u001b[1;33m.\u001b[0m\u001b[0msplit\u001b[0m\u001b[1;33m(\u001b[0m\u001b[1;34m'\\n'\u001b[0m\u001b[1;33m)\u001b[0m\u001b[1;33m\u001b[0m\u001b[1;33m\u001b[0m\u001b[0m\n",
      "\u001b[1;31mFileNotFoundError\u001b[0m: [Errno 2] No such file or directory: 'darknet/coco.names.txt'"
     ]
    }
   ],
   "source": [
    "#load names of classes and turn into a list\n",
    "classesFile = \"darknet/coco.names.txt\"\n",
    "classes = None\n",
    "\n",
    "with open(classesFile, 'r') as f:\n",
    "    classes = f.read().strip('\\n').split('\\n')"
   ]
  },
  {
   "cell_type": "code",
   "execution_count": 4,
   "metadata": {},
   "outputs": [],
   "source": [
    "#model configuration\n",
    "modelConf = 'darknet/cfg/yolov3.cfg'\n",
    "modelWeights = 'darknet/yolov3.weights'"
   ]
  },
  {
   "cell_type": "code",
   "execution_count": 5,
   "metadata": {},
   "outputs": [],
   "source": [
    "def postprocess(frame, outs):\n",
    "    frameHeight = frame.shape[0]\n",
    "    frameWidth = frame.shape[1]\n",
    "    \n",
    "    classIDs = []\n",
    "    confidences = []\n",
    "    boxes = []\n",
    "    \n",
    "    #create a list for results\n",
    "    # results = []\n",
    "    # see results = []\n",
    "    \n",
    "    #return the tensor, going through each vector in the tensor\n",
    "    for out in outs:\n",
    "        for detection in out:\n",
    "            #print(len(detection)) return vector of 85% values\n",
    "            scores = detection[5:]\n",
    "            classID = np.argmax(scores)\n",
    "            confidence = scores[classID] #take class ID, return the percentage value for the object detected, here the confidence threshold comes into play\n",
    "            \n",
    "            if confidence > confThreshold:\n",
    "                centerX = int(detection[0] * frameWidth) #perc. value\n",
    "                centerY = int(detection[1] * frameHeight) #perc. value\n",
    "                \n",
    "                width = int(detection[2] + frameWidth)\n",
    "                height = int(detection[2] + frameWidth)\n",
    "                \n",
    "                left = int(centerX - width/2)\n",
    "                top = int(centerY - height/2)\n",
    "                \n",
    "                classIDs.append(classID) #the object the model was confident enough to predict\n",
    "                confidences.append(float(confidence))\n",
    "                boxes.append([left, top, width, height])\n",
    "                \n",
    "    indices = cv.dnn.NMSBoxes(boxes, confidences, confThreshold, nmsThreshold)\n",
    "    \n",
    "    for i in indices:\n",
    "        i = i[0]\n",
    "        box = boxes[i] #iterating over the boxes\n",
    "        left = box[0]\n",
    "        top = box[1]\n",
    "        width = box[2]\n",
    "        height = box[2]\n",
    "        #print(left, top, width, height)\n",
    "        \n",
    "        drawPred(classIDs[i], confidences[i], left, top, left + width, top + height)\n",
    "        \n",
    "def drawPred(classID, conf, left, top, right, bottom):\n",
    "    cv.rectangle(frame, (left, top), (right, bottom), (255,178,50), 3)\n",
    "    \n",
    "    label = \"%.2f\" % conf\n",
    "    \n",
    "    if classes:\n",
    "        assert(classID < len(classes))\n",
    "        label = \"%s:%s\" % (classes[classID], label)\n",
    "        \n",
    "    cv.putText(frame, label,(left, top), cv.FONT_HERSHEY_SIMPLEX, 2, (255,255,255), 2) #go to frame, write the label (defined above), and put it in the left corner\n",
    "        \n",
    "        \n",
    "        \n",
    "        "
   ]
  },
  {
   "cell_type": "code",
   "execution_count": 6,
   "metadata": {},
   "outputs": [],
   "source": [
    "def getOutputsNames(net):\n",
    "    layerNames = net.getLayerNames()\n",
    "    return [layerNames[i[0]-1] for i in net.getUnconnectedOutLayers()]"
   ]
  },
  {
   "cell_type": "code",
   "execution_count": 7,
   "metadata": {},
   "outputs": [],
   "source": [
    "net = cv.dnn.readNetFromDarknet(modelConf, modelWeights)\n",
    "net.setPreferableBackend(cv.dnn.DNN_BACKEND_OPENCV)\n",
    "net.setPreferableTarget(cv.dnn.DNN_TARGET_CPU)"
   ]
  },
  {
   "cell_type": "code",
   "execution_count": null,
   "metadata": {},
   "outputs": [],
   "source": [
    "# Process inputs\n",
    "winName = \"DL OD with OpenCV\"\n",
    "cv.namedWindow(winName, cv.WINDOW_NORMAL)\n",
    "cv.resizeWindow(winName, 750, 750)\n",
    "\n",
    "#specifying what video input the model will take, '0' is the webcam\n",
    "cap = cv.VideoCapture('Youtube Videos/Mosh Pit & Wall of Death montage.mp4')\n",
    "\n",
    "\n",
    "while cv.waitKey(1) < 0:\n",
    "    hasFrame, frame = cap.read()\n",
    "    #take the frame, then rescale each pixel by 1/255 (colors in array of the image) turn the colors in the image into percentages, and then rescale the image, and [0,0,0], 1 is default and we don't want to crop\n",
    "    blob = cv.dnn.blobFromImage(frame, 1/255, (inpWidth, inpHeight), [0,0,0], 1, crop=False)\n",
    "    \n",
    "    net.setInput(blob)\n",
    "    outs = net.forward(getOutputsNames(net)) #get all the unconnected layers in the network (aka output layers)\n",
    "    \n",
    "    postprocess(frame, outs)\n",
    "    cv.imshow(winName, frame)\n",
    "cv.destroyAllWindows()"
   ]
  }
 ],
 "metadata": {
  "kernelspec": {
   "display_name": "Python 3",
   "language": "python",
   "name": "python3"
  },
  "language_info": {
   "codemirror_mode": {
    "name": "ipython",
    "version": 3
   },
   "file_extension": ".py",
   "mimetype": "text/x-python",
   "name": "python",
   "nbconvert_exporter": "python",
   "pygments_lexer": "ipython3",
   "version": "3.6.8"
  }
 },
 "nbformat": 4,
 "nbformat_minor": 2
}
